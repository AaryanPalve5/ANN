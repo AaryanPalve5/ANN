{
 "cells": [
  {
   "cell_type": "code",
   "execution_count": 1,
   "id": "e793b717-441c-42aa-b42f-40e2d46cc45b",
   "metadata": {},
   "outputs": [
    {
     "name": "stdout",
     "output_type": "stream",
     "text": [
      "Epoch 0: Error 0.4994217595184909\n",
      "Epoch 1000: Error 0.12677271040058352\n",
      "Epoch 2000: Error 0.052217348650828076\n",
      "Epoch 3000: Error 0.037422339747695044\n",
      "Epoch 4000: Error 0.0304745314033072\n",
      "Epoch 5000: Error 0.02627691573337023\n",
      "Epoch 6000: Error 0.02340381268779754\n",
      "Epoch 7000: Error 0.02128404469538429\n",
      "Epoch 8000: Error 0.01963956084729633\n",
      "Epoch 9000: Error 0.01831705814385583\n",
      "\n",
      "Final Output after Training:\n",
      "[[0.0157297 ]\n",
      " [0.98197353]\n",
      " [0.98198536]\n",
      " [0.01713048]]\n"
     ]
    }
   ],
   "source": [
    "import numpy as np\n",
    "\n",
    "# Activation function and its derivative\n",
    "def sigmoid(x):\n",
    "    return 1 / (1 + np.exp(-x))\n",
    "\n",
    "def sigmoid_derivative(x):\n",
    "    return x * (1 - x)\n",
    "\n",
    "# Training data for XOR function\n",
    "X = np.array([[0, 0], [0, 1], [1, 0], [1, 1]])\n",
    "y = np.array([[0], [1], [1], [0]])\n",
    "\n",
    "# Initialize weights and biases\n",
    "np.random.seed(1)\n",
    "input_layer_neurons = 2\n",
    "hidden_layer_neurons = 2\n",
    "output_layer_neurons = 1\n",
    "\n",
    "# Randomly initializing weights and biases\n",
    "weights_input_hidden = np.random.uniform(-1, 1, (input_layer_neurons, hidden_layer_neurons))\n",
    "weights_hidden_output = np.random.uniform(-1, 1, (hidden_layer_neurons, output_layer_neurons))\n",
    "bias_hidden = np.random.uniform(-1, 1, (1, hidden_layer_neurons))\n",
    "bias_output = np.random.uniform(-1, 1, (1, output_layer_neurons))\n",
    "\n",
    "# Learning rate and epochs\n",
    "lr = 0.5\n",
    "epochs = 10000\n",
    "\n",
    "# Training the neural network\n",
    "for epoch in range(epochs):\n",
    "    # Forward propagation\n",
    "    hidden_layer_activation = np.dot(X, weights_input_hidden) + bias_hidden\n",
    "    hidden_layer_output = sigmoid(hidden_layer_activation)\n",
    "    \n",
    "    output_layer_activation = np.dot(hidden_layer_output, weights_hidden_output) + bias_output\n",
    "    predicted_output = sigmoid(output_layer_activation)\n",
    "    \n",
    "    # Compute error\n",
    "    error = y - predicted_output\n",
    "    \n",
    "    # Backpropagation\n",
    "    d_predicted_output = error * sigmoid_derivative(predicted_output)\n",
    "    error_hidden_layer = d_predicted_output.dot(weights_hidden_output.T)\n",
    "    d_hidden_layer = error_hidden_layer * sigmoid_derivative(hidden_layer_output)\n",
    "    \n",
    "    # Updating weights and biases\n",
    "    weights_hidden_output += hidden_layer_output.T.dot(d_predicted_output) * lr\n",
    "    bias_output += np.sum(d_predicted_output, axis=0, keepdims=True) * lr\n",
    "    weights_input_hidden += X.T.dot(d_hidden_layer) * lr\n",
    "    bias_hidden += np.sum(d_hidden_layer, axis=0, keepdims=True) * lr\n",
    "    \n",
    "    if epoch % 1000 == 0:\n",
    "        print(f\"Epoch {epoch}: Error {np.mean(np.abs(error))}\")\n",
    "\n",
    "# Testing the trained neural network\n",
    "print(\"\\nFinal Output after Training:\")\n",
    "print(predicted_output)\n"
   ]
  },
  {
   "cell_type": "code",
   "execution_count": null,
   "id": "436a9f55-4612-4ca9-bc96-b91b65a67a10",
   "metadata": {},
   "outputs": [],
   "source": []
  }
 ],
 "metadata": {
  "kernelspec": {
   "display_name": "base",
   "language": "python",
   "name": "python3"
  },
  "language_info": {
   "codemirror_mode": {
    "name": "ipython",
    "version": 3
   },
   "file_extension": ".py",
   "mimetype": "text/x-python",
   "name": "python",
   "nbconvert_exporter": "python",
   "pygments_lexer": "ipython3",
   "version": "3.12.2"
  }
 },
 "nbformat": 4,
 "nbformat_minor": 5
}
