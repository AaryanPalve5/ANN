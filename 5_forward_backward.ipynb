{
 "cells": [
  {
   "cell_type": "code",
   "execution_count": 1,
   "id": "0f3bea9a-9085-41e6-b298-ad71b8b05444",
   "metadata": {},
   "outputs": [
    {
     "name": "stdout",
     "output_type": "stream",
     "text": [
      "Epoch 0, Loss: 0.5017350099193859\n",
      "Epoch 1000, Loss: 0.2328508141274824\n",
      "Epoch 2000, Loss: 0.059619676716156755\n",
      "Epoch 3000, Loss: 0.039402607049219246\n",
      "Epoch 4000, Loss: 0.03105850395500624\n",
      "Epoch 5000, Loss: 0.02630464275689809\n",
      "Epoch 6000, Loss: 0.023160695841292774\n",
      "Epoch 7000, Loss: 0.0208934852637923\n",
      "Epoch 8000, Loss: 0.01916326016300255\n",
      "Epoch 9000, Loss: 0.017789008373340187\n",
      "Final Output:\n",
      "[[0.0080043 ]\n",
      " [0.98282695]\n",
      " [0.98352924]\n",
      " [0.02501433]]\n"
     ]
    }
   ],
   "source": [
    "import numpy as np\n",
    "\n",
    "# Sigmoid activation function and its derivative\n",
    "def sigmoid(x):\n",
    "    return 1 / (1 + np.exp(-x))\n",
    "def sigmoid_derivative(x):\n",
    "    return x * (1 - x)\n",
    "\n",
    "# Training data (X: input, y: output)\n",
    "X = np.array([[0, 0], [0, 1], [1, 0], [1, 1]])\n",
    "y = np.array([[0], [1], [1], [0]])  # XOR problem\n",
    "\n",
    "# Initialize weights and biases randomly\n",
    "np.random.seed(1)\n",
    "input_neurons = 2\n",
    "hidden_neurons = 3\n",
    "output_neurons = 1\n",
    "\n",
    "W1 = np.random.uniform(-1, 1, (input_neurons, hidden_neurons))\n",
    "b1 = np.random.uniform(-1, 1, (1, hidden_neurons))\n",
    "W2 = np.random.uniform(-1, 1, (hidden_neurons, output_neurons))\n",
    "b2 = np.random.uniform(-1, 1, (1, output_neurons))\n",
    "\n",
    "# Training the network\n",
    "learning_rate = 0.5\n",
    "epochs = 10000\n",
    "\n",
    "for epoch in range(epochs):\n",
    "    # Forward Propagation\n",
    "    hidden_input = np.dot(X, W1) + b1\n",
    "    hidden_output = sigmoid(hidden_input)\n",
    "    final_input = np.dot(hidden_output, W2) + b2\n",
    "    final_output = sigmoid(final_input)\n",
    "\n",
    "    # Compute error\n",
    "    error = y - final_output\n",
    "\n",
    "    # Backpropagation\n",
    "    d_output = error * sigmoid_derivative(final_output)\n",
    "    error_hidden = d_output.dot(W2.T)\n",
    "    d_hidden = error_hidden * sigmoid_derivative(hidden_output)\n",
    "\n",
    "    # Update weights and biases\n",
    "    W2 += hidden_output.T.dot(d_output) * learning_rate\n",
    "    b2 += np.sum(d_output, axis=0, keepdims=True) * learning_rate\n",
    "    W1 += X.T.dot(d_hidden) * learning_rate\n",
    "    b1 += np.sum(d_hidden, axis=0, keepdims=True) * learning_rate\n",
    "\n",
    "    # Print loss every 1000 epochs\n",
    "    if epoch % 1000 == 0:\n",
    "        loss = np.mean(np.abs(error))\n",
    "        print(f\"Epoch {epoch}, Loss: {loss}\")\n",
    "\n",
    "# Testing the trained network\n",
    "print(\"Final Output:\")\n",
    "print(final_output)\n"
   ]
  },
  {
   "cell_type": "code",
   "execution_count": null,
   "id": "97b8d387-b55d-4213-ae40-9593c21f352c",
   "metadata": {},
   "outputs": [],
   "source": []
  }
 ],
 "metadata": {
  "kernelspec": {
   "display_name": "base",
   "language": "python",
   "name": "python3"
  },
  "language_info": {
   "codemirror_mode": {
    "name": "ipython",
    "version": 3
   },
   "file_extension": ".py",
   "mimetype": "text/x-python",
   "name": "python",
   "nbconvert_exporter": "python",
   "pygments_lexer": "ipython3",
   "version": "3.12.2"
  }
 },
 "nbformat": 4,
 "nbformat_minor": 5
}
