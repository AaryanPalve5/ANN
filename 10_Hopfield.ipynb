{
 "cells": [
  {
   "cell_type": "code",
   "execution_count": 1,
   "id": "8900d3b5-95ae-402d-8618-d89024cde837",
   "metadata": {},
   "outputs": [
    {
     "name": "stdout",
     "output_type": "stream",
     "text": [
      "Input vector:\n",
      "[ 1  1 -1 -1]\n",
      "Output vector (recalled):\n",
      "[ 1  1 -1 -1]\n"
     ]
    }
   ],
   "source": [
    "import numpy as np\n",
    "\n",
    "# Define 4 bipolar vectors to be stored in the Hopfield network\n",
    "vectors = np.array([[1, 1, -1, -1],\n",
    "                    [-1, -1, 1, 1],\n",
    "                    [1, -1, 1, -1],\n",
    "                    [-1, 1, -1, 1]])\n",
    "\n",
    "# Initialize weight matrix (size: N x N)\n",
    "num_neurons = vectors.shape[1]\n",
    "weights = np.zeros((num_neurons, num_neurons))\n",
    "\n",
    "# Hebbian learning rule to calculate the weight matrix\n",
    "for pattern in vectors:\n",
    "    weights += np.outer(pattern, pattern)\n",
    "\n",
    "# Ensure no self-connections (diagonal weights are 0)\n",
    "np.fill_diagonal(weights, 0)\n",
    "\n",
    "# Activation function: sign function with bipolar output (-1 or 1)\n",
    "def activation(x):\n",
    "    return np.where(x >= 0, 1, -1)\n",
    "\n",
    "# Hopfield recall function\n",
    "def hopfield(input_vector, weights):\n",
    "    return activation(np.dot(weights, input_vector))\n",
    "\n",
    "# Test the Hopfield network with one of the stored patterns\n",
    "input_vector = vectors[0]\n",
    "output_vector = hopfield(input_vector, weights)\n",
    "\n",
    "# Display results\n",
    "print(\"Input vector:\")\n",
    "print(input_vector)\n",
    "print(\"Output vector (recalled):\")\n",
    "print(output_vector)\n"
   ]
  },
  {
   "cell_type": "code",
   "execution_count": null,
   "id": "5f914b4b-54d4-4658-a578-7ab771c9c693",
   "metadata": {},
   "outputs": [],
   "source": []
  }
 ],
 "metadata": {
  "kernelspec": {
   "display_name": "base",
   "language": "python",
   "name": "python3"
  },
  "language_info": {
   "codemirror_mode": {
    "name": "ipython",
    "version": 3
   },
   "file_extension": ".py",
   "mimetype": "text/x-python",
   "name": "python",
   "nbconvert_exporter": "python",
   "pygments_lexer": "ipython3",
   "version": "3.12.2"
  }
 },
 "nbformat": 4,
 "nbformat_minor": 5
}
