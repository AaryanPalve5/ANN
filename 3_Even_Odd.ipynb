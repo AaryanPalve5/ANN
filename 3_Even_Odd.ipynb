{
 "cells": [
  {
   "cell_type": "code",
   "execution_count": 1,
   "id": "fac80f48-332d-4f07-83a0-bbfc07c9829a",
   "metadata": {},
   "outputs": [
    {
     "name": "stdout",
     "output_type": "stream",
     "text": [
      "Number: [0, 0, 0, 0, 1, 0, 0], Even(1) or Odd(0): 1\n",
      "Number: [0, 0, 0, 1, 0, 0, 1], Even(1) or Odd(0): 0\n"
     ]
    }
   ],
   "source": [
    "import numpy as np\n",
    "\n",
    "def activation_fun(x):\n",
    "    return 1 if x >= 0 else 0\n",
    "\n",
    "class Perceptron():\n",
    "    def __init__(self, input_size, learning_rate=0.1):\n",
    "        self.weights = np.random.rand(input_size + 1)\n",
    "        self.learning_rate = learning_rate\n",
    "\n",
    "    def predict(self, x):\n",
    "        x = np.insert(x, 0, 1)\n",
    "        weighted_sum = np.dot(self.weights, x)\n",
    "        return activation_fun(weighted_sum)\n",
    "\n",
    "    def train(self, X, y, epochs=10):\n",
    "        for epoch in range(epochs):\n",
    "            for i in range(len(X)):\n",
    "                x = np.insert(X[i], 0, 1)\n",
    "                weighted_sum = np.dot(self.weights, x)\n",
    "                y_pred = activation_fun(weighted_sum)\n",
    "                error = y[i] - y_pred\n",
    "                self.weights += self.learning_rate * error * x\n",
    "\n",
    "ASCII = (\n",
    "    [0, 0, 0, 0, 0, 0, 0],\n",
    "    [0, 0, 0, 0, 0, 0, 1],\n",
    "    [0, 0, 0, 0, 0, 1, 0],\n",
    "    [0, 0, 0, 0, 0, 1, 1],\n",
    "    [0, 0, 0, 0, 1, 0, 0],\n",
    "    [0, 0, 0, 0, 1, 0, 1],\n",
    "    [0, 0, 0, 0, 1, 1, 0],\n",
    "    [0, 0, 0, 0, 1, 1, 1],\n",
    "    [0, 0, 0, 1, 0, 0, 0],\n",
    "    [0, 0, 0, 1, 0, 0, 1],\n",
    ")\n",
    "\n",
    "labels = [1, 0, 1, 0, 1, 0, 1, 0, 1, 0]\n",
    "\n",
    "perceptron = Perceptron(input_size=7)\n",
    "perceptron.train(X=ASCII, y=labels, epochs=20)\n",
    "\n",
    "test_numbers = [\n",
    "    [0, 0, 0, 0, 1, 0, 0],\n",
    "    [0, 0, 0, 1, 0, 0, 1]\n",
    "]\n",
    "\n",
    "for number in test_numbers:\n",
    "    result = perceptron.predict(number)\n",
    "    print(f\"Number: {number}, Even(1) or Odd(0): {result}\")\n"
   ]
  },
  {
   "cell_type": "code",
   "execution_count": null,
   "id": "d08aef67-6f53-49ba-8f0f-66adf688c3ed",
   "metadata": {},
   "outputs": [],
   "source": []
  }
 ],
 "metadata": {
  "kernelspec": {
   "display_name": "base",
   "language": "python",
   "name": "python3"
  },
  "language_info": {
   "codemirror_mode": {
    "name": "ipython",
    "version": 3
   },
   "file_extension": ".py",
   "mimetype": "text/x-python",
   "name": "python",
   "nbconvert_exporter": "python",
   "pygments_lexer": "ipython3",
   "version": "3.12.2"
  }
 },
 "nbformat": 4,
 "nbformat_minor": 5
}
