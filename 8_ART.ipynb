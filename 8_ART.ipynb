{
 "cells": [
  {
   "cell_type": "code",
   "execution_count": 1,
   "id": "35dee2a9-36f6-4e1e-a3bf-9067aa2d9632",
   "metadata": {},
   "outputs": [
    {
     "name": "stdout",
     "output_type": "stream",
     "text": [
      "Category 1:\n",
      "Patterns:\n",
      "[1 0 1 0]\n",
      "[1 1 1 0]\n",
      "[1 0 1 1]\n",
      "Weights:\n",
      "[1. 0. 1. 0.]\n",
      "\n",
      "Category 2:\n",
      "Patterns:\n",
      "[0 1 0 1]\n",
      "Weights:\n",
      "[0. 1. 0. 1.]\n",
      "\n"
     ]
    }
   ],
   "source": [
    "import numpy as np\n",
    "\n",
    "def initialize_weights(input_dim):\n",
    "    \"\"\"Initialize weights to ones (fully active memory traces).\"\"\"\n",
    "    return np.ones(input_dim)\n",
    "\n",
    "def calculate_similarity(input_pattern, weights):\n",
    "    \"\"\"Compute similarity between input pattern and weight vector.\"\"\"\n",
    "    return np.sum(np.minimum(input_pattern, weights)) / np.sum(input_pattern)\n",
    "\n",
    "def update_weights(input_pattern, weights):\n",
    "    \"\"\"Update weights using the ART1 learning rule: w_new = min(input, w_old).\"\"\"\n",
    "    return np.minimum(input_pattern, weights)\n",
    "\n",
    "def ART_neural_network(input_patterns, vigilance):\n",
    "    \"\"\"Adaptive Resonance Theory (ART1) clustering algorithm.\"\"\"\n",
    "    num_patterns, input_dim = input_patterns.shape\n",
    "    categories = []  # Stores category weight vectors\n",
    "\n",
    "    for pattern in input_patterns:\n",
    "        matched_category = None\n",
    "\n",
    "        # Try to find a matching category\n",
    "        for category in categories:\n",
    "            if calculate_similarity(pattern, category[\"weights\"]) >= vigilance:\n",
    "                matched_category = category\n",
    "                break\n",
    "\n",
    "        # If no matching category found, create a new one\n",
    "        if matched_category is None:\n",
    "            new_weights = initialize_weights(input_dim)\n",
    "            matched_category = {\"weights\": new_weights, \"patterns\": []}\n",
    "            categories.append(matched_category)\n",
    "\n",
    "        # Update category with new pattern\n",
    "        matched_category[\"patterns\"].append(pattern)\n",
    "        matched_category[\"weights\"] = update_weights(pattern, matched_category[\"weights\"])\n",
    "\n",
    "    return categories\n",
    "\n",
    "# Example usage\n",
    "input_patterns = np.array([\n",
    "    [1, 0, 1, 0],\n",
    "    [0, 1, 0, 1],\n",
    "    [1, 1, 1, 0],\n",
    "    [1, 0, 1, 1]\n",
    "])\n",
    "vigilance = 0.5\n",
    "\n",
    "categories = ART_neural_network(input_patterns, vigilance)\n",
    "\n",
    "# Print the learned categories\n",
    "for i, category in enumerate(categories):\n",
    "    print(f\"Category {i+1}:\")\n",
    "    print(\"Patterns:\")\n",
    "    for pattern in category[\"patterns\"]:\n",
    "        print(pattern)\n",
    "    print(\"Weights:\")\n",
    "    print(category[\"weights\"])\n",
    "    print()\n"
   ]
  },
  {
   "cell_type": "code",
   "execution_count": null,
   "id": "c57c1fa3-3ad4-4f77-80c3-91b25b242cd3",
   "metadata": {},
   "outputs": [],
   "source": []
  },
  {
   "cell_type": "code",
   "execution_count": null,
   "id": "16de17e5-82ab-4046-a6f8-ef3d1eee9be8",
   "metadata": {},
   "outputs": [],
   "source": []
  }
 ],
 "metadata": {
  "kernelspec": {
   "display_name": "base",
   "language": "python",
   "name": "python3"
  },
  "language_info": {
   "codemirror_mode": {
    "name": "ipython",
    "version": 3
   },
   "file_extension": ".py",
   "mimetype": "text/x-python",
   "name": "python",
   "nbconvert_exporter": "python",
   "pygments_lexer": "ipython3",
   "version": "3.12.2"
  }
 },
 "nbformat": 4,
 "nbformat_minor": 5
}
