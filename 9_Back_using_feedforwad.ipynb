{
 "cells": [
  {
   "cell_type": "code",
   "execution_count": 1,
   "id": "ee837127-c2da-4e4b-aa8a-e099fe8235be",
   "metadata": {},
   "outputs": [
    {
     "name": "stdout",
     "output_type": "stream",
     "text": [
      "Predicted Outputs:\n",
      " [[0.012]\n",
      " [0.988]\n",
      " [0.982]\n",
      " [0.017]]\n"
     ]
    }
   ],
   "source": [
    "import numpy as np\n",
    "\n",
    "# Activation functions\n",
    "def sigmoid(x): return 1 / (1 + np.exp(-x))\n",
    "def sigmoid_derivative(x): return x * (1 - x)\n",
    "\n",
    "# XOR input (X) and expected output (y)\n",
    "X = np.array([[0, 0], [0, 1], [1, 0], [1, 1]])\n",
    "y = np.array([[0], [1], [1], [0]])\n",
    "\n",
    "# Initialize weights and biases\n",
    "np.random.seed(1)\n",
    "w1 = np.random.uniform(size=(2, 4))   # Input to hidden (2 inputs, 4 hidden neurons)\n",
    "b1 = np.random.uniform(size=(1, 4))   # Hidden layer bias\n",
    "w2 = np.random.uniform(size=(4, 1))   # Hidden to output (4 hidden, 1 output)\n",
    "b2 = np.random.uniform(size=(1, 1))   # Output layer bias\n",
    "\n",
    "# Training parameters\n",
    "lr = 0.5\n",
    "epochs = 10000\n",
    "\n",
    "# Training loop\n",
    "for _ in range(epochs):\n",
    "    # Forward pass\n",
    "    hidden_input = np.dot(X, w1) + b1\n",
    "    hidden_output = sigmoid(hidden_input)\n",
    "    final_input = np.dot(hidden_output, w2) + b2\n",
    "    output = sigmoid(final_input)\n",
    "\n",
    "    # Backward pass (Backpropagation)\n",
    "    error = y - output\n",
    "    d_output = error * sigmoid_derivative(output)\n",
    "    d_hidden = d_output.dot(w2.T) * sigmoid_derivative(hidden_output)\n",
    "\n",
    "    # Update weights and biases\n",
    "    w2 += hidden_output.T.dot(d_output) * lr\n",
    "    b2 += np.sum(d_output, axis=0, keepdims=True) * lr\n",
    "    w1 += X.T.dot(d_hidden) * lr\n",
    "    b1 += np.sum(d_hidden, axis=0, keepdims=True) * lr\n",
    "\n",
    "# Output after training\n",
    "print(\"Predicted Outputs:\\n\", output.round(3))\n"
   ]
  },
  {
   "cell_type": "code",
   "execution_count": null,
   "id": "5f221743-1bcb-47af-a04b-48d2db88cbe0",
   "metadata": {},
   "outputs": [],
   "source": []
  }
 ],
 "metadata": {
  "kernelspec": {
   "display_name": "base",
   "language": "python",
   "name": "python3"
  },
  "language_info": {
   "codemirror_mode": {
    "name": "ipython",
    "version": 3
   },
   "file_extension": ".py",
   "mimetype": "text/x-python",
   "name": "python",
   "nbconvert_exporter": "python",
   "pygments_lexer": "ipython3",
   "version": "3.12.2"
  }
 },
 "nbformat": 4,
 "nbformat_minor": 5
}
